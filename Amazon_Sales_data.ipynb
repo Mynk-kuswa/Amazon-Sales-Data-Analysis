{
  "nbformat": 4,
  "nbformat_minor": 0,
  "metadata": {
    "colab": {
      "name": "Amazon Sales data.ipynb",
      "provenance": [],
      "collapsed_sections": [],
      "mount_file_id": "18U00K6mGM-kQVZjs7dJOHitdTZ7JP6AR",
      "authorship_tag": "ABX9TyNP7mukRSgbcJKe+6/AeUBP",
      "include_colab_link": true
    },
    "kernelspec": {
      "name": "python3",
      "display_name": "Python 3"
    },
    "language_info": {
      "name": "python"
    }
  },
  "cells": [
    {
      "cell_type": "markdown",
      "metadata": {
        "id": "view-in-github",
        "colab_type": "text"
      },
      "source": [
        "<a href=\"https://colab.research.google.com/github/Mynk-kuswa/Amazon-Sales-Data-Analysis/blob/main/Amazon_Sales_data.ipynb\" target=\"_parent\"><img src=\"https://colab.research.google.com/assets/colab-badge.svg\" alt=\"Open In Colab\"/></a>"
      ]
    },
    {
      "cell_type": "markdown",
      "source": [
        "# Amazon Sales Data Analysis"
      ],
      "metadata": {
        "id": "pp6KFnEdwjjN"
      }
    },
    {
      "cell_type": "markdown",
      "source": [
        "Import Libraies "
      ],
      "metadata": {
        "id": "57CZ587Hwrsb"
      }
    },
    {
      "cell_type": "code",
      "execution_count": 1,
      "metadata": {
        "id": "a6mDuXfLjpPs"
      },
      "outputs": [],
      "source": [
        "# libraries for data cleaning and Visualizing\n",
        "import pandas as pd  \n",
        "import numpy as np\n",
        "import seaborn as sns\n",
        "import matplotlib.pyplot as plt\n",
        "%matplotlib inline"
      ]
    },
    {
      "cell_type": "code",
      "source": [
        "!pip install --upgrade xlrd"
      ],
      "metadata": {
        "id": "al_o4V8F4Y6o",
        "colab": {
          "base_uri": "https://localhost:8080/",
          "height": 307
        },
        "outputId": "b3b0beaa-6d96-4c6e-bdcf-4261d4a2d36c"
      },
      "execution_count": 5,
      "outputs": [
        {
          "output_type": "stream",
          "name": "stdout",
          "text": [
            "Looking in indexes: https://pypi.org/simple, https://us-python.pkg.dev/colab-wheels/public/simple/\n",
            "Requirement already satisfied: xlrd in /usr/local/lib/python3.7/dist-packages (1.1.0)\n",
            "Collecting xlrd\n",
            "  Downloading xlrd-2.0.1-py2.py3-none-any.whl (96 kB)\n",
            "\u001b[K     |████████████████████████████████| 96 kB 2.5 MB/s \n",
            "\u001b[?25hInstalling collected packages: xlrd\n",
            "  Attempting uninstall: xlrd\n",
            "    Found existing installation: xlrd 1.1.0\n",
            "    Uninstalling xlrd-1.1.0:\n",
            "      Successfully uninstalled xlrd-1.1.0\n",
            "Successfully installed xlrd-2.0.1\n"
          ]
        },
        {
          "output_type": "display_data",
          "data": {
            "application/vnd.colab-display-data+json": {
              "pip_warning": {
                "packages": [
                  "xlrd"
                ]
              }
            }
          },
          "metadata": {}
        }
      ]
    },
    {
      "cell_type": "code",
      "source": [
        "data = pd.DataFrame(pd.read_excel(\"/content/drive/MyDrive/SALESDATA.xls\"))"
      ],
      "metadata": {
        "id": "ATD53is600a-"
      },
      "execution_count": 2,
      "outputs": []
    },
    {
      "cell_type": "code",
      "source": [
        "data.sample(5)"
      ],
      "metadata": {
        "colab": {
          "base_uri": "https://localhost:8080/",
          "height": 446
        },
        "id": "FgOQ1U64qHpI",
        "outputId": "17aa4ff1-a935-416e-e4a0-982049ee9b2a"
      },
      "execution_count": 3,
      "outputs": [
        {
          "output_type": "execute_result",
          "data": {
            "text/plain": [
              "        CustKey    DateKey  Discount Amount Invoice Date  Invoice Number  \\\n",
              "2189   10019194 2019-01-20           301.00   2019-01-20          319579   \n",
              "26259  10025919 2017-06-23           887.61   2017-06-23          105776   \n",
              "51079  10005006 2017-11-21          1260.56   2017-11-21          127079   \n",
              "6433   10021986 2019-02-17           222.56   2019-02-17          322037   \n",
              "13418  10016113 2019-04-01           358.89   2019-04-01          325689   \n",
              "\n",
              "      Item Class Item Number                      Item  Line Number  \\\n",
              "2189         P01       30500   Blue Label Canned Beets        31000   \n",
              "26259        P01        5742    Red Spade Beef Bologna         2000   \n",
              "51079        P01       62616           Tell Tale Limes        14000   \n",
              "6433         P01       29754           BBB Best Pepper        11000   \n",
              "13418        P01       38061  Gorilla Blueberry Yogurt        23000   \n",
              "\n",
              "       List Price  ...  Sales Amount Sales Amount Based on List Price  \\\n",
              "2189       634.11  ...        333.11                           634.11   \n",
              "26259      115.31  ...       1072.66                          1960.27   \n",
              "51079      298.00  ...       1123.44                          2384.00   \n",
              "6433       485.84  ...        263.28                           485.84   \n",
              "13418      378.29  ...        397.69                           756.58   \n",
              "\n",
              "       Sales Cost Amount  Sales Margin Amount  Sales Price  Sales Quantity  \\\n",
              "2189              272.06                61.05   333.110000               1   \n",
              "26259             328.16               744.50    63.097647              17   \n",
              "51079             762.77               360.67   140.430000               8   \n",
              "6433              162.50               100.78   263.280000               1   \n",
              "13418             155.33               242.36   198.845000               2   \n",
              "\n",
              "       Sales Rep  U/M  Unnamed: 20 Unnamed: 21  \n",
              "2189         108   EA          NaN         NaN  \n",
              "26259        108   EA          NaN         NaN  \n",
              "51079        167   EA          NaN         NaN  \n",
              "6433         183   EA          NaN         NaN  \n",
              "13418        162   EA          NaN         NaN  \n",
              "\n",
              "[5 rows x 22 columns]"
            ],
            "text/html": [
              "\n",
              "  <div id=\"df-24ac4585-f899-4ecf-abaf-573191d1fdef\">\n",
              "    <div class=\"colab-df-container\">\n",
              "      <div>\n",
              "<style scoped>\n",
              "    .dataframe tbody tr th:only-of-type {\n",
              "        vertical-align: middle;\n",
              "    }\n",
              "\n",
              "    .dataframe tbody tr th {\n",
              "        vertical-align: top;\n",
              "    }\n",
              "\n",
              "    .dataframe thead th {\n",
              "        text-align: right;\n",
              "    }\n",
              "</style>\n",
              "<table border=\"1\" class=\"dataframe\">\n",
              "  <thead>\n",
              "    <tr style=\"text-align: right;\">\n",
              "      <th></th>\n",
              "      <th>CustKey</th>\n",
              "      <th>DateKey</th>\n",
              "      <th>Discount Amount</th>\n",
              "      <th>Invoice Date</th>\n",
              "      <th>Invoice Number</th>\n",
              "      <th>Item Class</th>\n",
              "      <th>Item Number</th>\n",
              "      <th>Item</th>\n",
              "      <th>Line Number</th>\n",
              "      <th>List Price</th>\n",
              "      <th>...</th>\n",
              "      <th>Sales Amount</th>\n",
              "      <th>Sales Amount Based on List Price</th>\n",
              "      <th>Sales Cost Amount</th>\n",
              "      <th>Sales Margin Amount</th>\n",
              "      <th>Sales Price</th>\n",
              "      <th>Sales Quantity</th>\n",
              "      <th>Sales Rep</th>\n",
              "      <th>U/M</th>\n",
              "      <th>Unnamed: 20</th>\n",
              "      <th>Unnamed: 21</th>\n",
              "    </tr>\n",
              "  </thead>\n",
              "  <tbody>\n",
              "    <tr>\n",
              "      <th>2189</th>\n",
              "      <td>10019194</td>\n",
              "      <td>2019-01-20</td>\n",
              "      <td>301.00</td>\n",
              "      <td>2019-01-20</td>\n",
              "      <td>319579</td>\n",
              "      <td>P01</td>\n",
              "      <td>30500</td>\n",
              "      <td>Blue Label Canned Beets</td>\n",
              "      <td>31000</td>\n",
              "      <td>634.11</td>\n",
              "      <td>...</td>\n",
              "      <td>333.11</td>\n",
              "      <td>634.11</td>\n",
              "      <td>272.06</td>\n",
              "      <td>61.05</td>\n",
              "      <td>333.110000</td>\n",
              "      <td>1</td>\n",
              "      <td>108</td>\n",
              "      <td>EA</td>\n",
              "      <td>NaN</td>\n",
              "      <td>NaN</td>\n",
              "    </tr>\n",
              "    <tr>\n",
              "      <th>26259</th>\n",
              "      <td>10025919</td>\n",
              "      <td>2017-06-23</td>\n",
              "      <td>887.61</td>\n",
              "      <td>2017-06-23</td>\n",
              "      <td>105776</td>\n",
              "      <td>P01</td>\n",
              "      <td>5742</td>\n",
              "      <td>Red Spade Beef Bologna</td>\n",
              "      <td>2000</td>\n",
              "      <td>115.31</td>\n",
              "      <td>...</td>\n",
              "      <td>1072.66</td>\n",
              "      <td>1960.27</td>\n",
              "      <td>328.16</td>\n",
              "      <td>744.50</td>\n",
              "      <td>63.097647</td>\n",
              "      <td>17</td>\n",
              "      <td>108</td>\n",
              "      <td>EA</td>\n",
              "      <td>NaN</td>\n",
              "      <td>NaN</td>\n",
              "    </tr>\n",
              "    <tr>\n",
              "      <th>51079</th>\n",
              "      <td>10005006</td>\n",
              "      <td>2017-11-21</td>\n",
              "      <td>1260.56</td>\n",
              "      <td>2017-11-21</td>\n",
              "      <td>127079</td>\n",
              "      <td>P01</td>\n",
              "      <td>62616</td>\n",
              "      <td>Tell Tale Limes</td>\n",
              "      <td>14000</td>\n",
              "      <td>298.00</td>\n",
              "      <td>...</td>\n",
              "      <td>1123.44</td>\n",
              "      <td>2384.00</td>\n",
              "      <td>762.77</td>\n",
              "      <td>360.67</td>\n",
              "      <td>140.430000</td>\n",
              "      <td>8</td>\n",
              "      <td>167</td>\n",
              "      <td>EA</td>\n",
              "      <td>NaN</td>\n",
              "      <td>NaN</td>\n",
              "    </tr>\n",
              "    <tr>\n",
              "      <th>6433</th>\n",
              "      <td>10021986</td>\n",
              "      <td>2019-02-17</td>\n",
              "      <td>222.56</td>\n",
              "      <td>2019-02-17</td>\n",
              "      <td>322037</td>\n",
              "      <td>P01</td>\n",
              "      <td>29754</td>\n",
              "      <td>BBB Best Pepper</td>\n",
              "      <td>11000</td>\n",
              "      <td>485.84</td>\n",
              "      <td>...</td>\n",
              "      <td>263.28</td>\n",
              "      <td>485.84</td>\n",
              "      <td>162.50</td>\n",
              "      <td>100.78</td>\n",
              "      <td>263.280000</td>\n",
              "      <td>1</td>\n",
              "      <td>183</td>\n",
              "      <td>EA</td>\n",
              "      <td>NaN</td>\n",
              "      <td>NaN</td>\n",
              "    </tr>\n",
              "    <tr>\n",
              "      <th>13418</th>\n",
              "      <td>10016113</td>\n",
              "      <td>2019-04-01</td>\n",
              "      <td>358.89</td>\n",
              "      <td>2019-04-01</td>\n",
              "      <td>325689</td>\n",
              "      <td>P01</td>\n",
              "      <td>38061</td>\n",
              "      <td>Gorilla Blueberry Yogurt</td>\n",
              "      <td>23000</td>\n",
              "      <td>378.29</td>\n",
              "      <td>...</td>\n",
              "      <td>397.69</td>\n",
              "      <td>756.58</td>\n",
              "      <td>155.33</td>\n",
              "      <td>242.36</td>\n",
              "      <td>198.845000</td>\n",
              "      <td>2</td>\n",
              "      <td>162</td>\n",
              "      <td>EA</td>\n",
              "      <td>NaN</td>\n",
              "      <td>NaN</td>\n",
              "    </tr>\n",
              "  </tbody>\n",
              "</table>\n",
              "<p>5 rows × 22 columns</p>\n",
              "</div>\n",
              "      <button class=\"colab-df-convert\" onclick=\"convertToInteractive('df-24ac4585-f899-4ecf-abaf-573191d1fdef')\"\n",
              "              title=\"Convert this dataframe to an interactive table.\"\n",
              "              style=\"display:none;\">\n",
              "        \n",
              "  <svg xmlns=\"http://www.w3.org/2000/svg\" height=\"24px\"viewBox=\"0 0 24 24\"\n",
              "       width=\"24px\">\n",
              "    <path d=\"M0 0h24v24H0V0z\" fill=\"none\"/>\n",
              "    <path d=\"M18.56 5.44l.94 2.06.94-2.06 2.06-.94-2.06-.94-.94-2.06-.94 2.06-2.06.94zm-11 1L8.5 8.5l.94-2.06 2.06-.94-2.06-.94L8.5 2.5l-.94 2.06-2.06.94zm10 10l.94 2.06.94-2.06 2.06-.94-2.06-.94-.94-2.06-.94 2.06-2.06.94z\"/><path d=\"M17.41 7.96l-1.37-1.37c-.4-.4-.92-.59-1.43-.59-.52 0-1.04.2-1.43.59L10.3 9.45l-7.72 7.72c-.78.78-.78 2.05 0 2.83L4 21.41c.39.39.9.59 1.41.59.51 0 1.02-.2 1.41-.59l7.78-7.78 2.81-2.81c.8-.78.8-2.07 0-2.86zM5.41 20L4 18.59l7.72-7.72 1.47 1.35L5.41 20z\"/>\n",
              "  </svg>\n",
              "      </button>\n",
              "      \n",
              "  <style>\n",
              "    .colab-df-container {\n",
              "      display:flex;\n",
              "      flex-wrap:wrap;\n",
              "      gap: 12px;\n",
              "    }\n",
              "\n",
              "    .colab-df-convert {\n",
              "      background-color: #E8F0FE;\n",
              "      border: none;\n",
              "      border-radius: 50%;\n",
              "      cursor: pointer;\n",
              "      display: none;\n",
              "      fill: #1967D2;\n",
              "      height: 32px;\n",
              "      padding: 0 0 0 0;\n",
              "      width: 32px;\n",
              "    }\n",
              "\n",
              "    .colab-df-convert:hover {\n",
              "      background-color: #E2EBFA;\n",
              "      box-shadow: 0px 1px 2px rgba(60, 64, 67, 0.3), 0px 1px 3px 1px rgba(60, 64, 67, 0.15);\n",
              "      fill: #174EA6;\n",
              "    }\n",
              "\n",
              "    [theme=dark] .colab-df-convert {\n",
              "      background-color: #3B4455;\n",
              "      fill: #D2E3FC;\n",
              "    }\n",
              "\n",
              "    [theme=dark] .colab-df-convert:hover {\n",
              "      background-color: #434B5C;\n",
              "      box-shadow: 0px 1px 3px 1px rgba(0, 0, 0, 0.15);\n",
              "      filter: drop-shadow(0px 1px 2px rgba(0, 0, 0, 0.3));\n",
              "      fill: #FFFFFF;\n",
              "    }\n",
              "  </style>\n",
              "\n",
              "      <script>\n",
              "        const buttonEl =\n",
              "          document.querySelector('#df-24ac4585-f899-4ecf-abaf-573191d1fdef button.colab-df-convert');\n",
              "        buttonEl.style.display =\n",
              "          google.colab.kernel.accessAllowed ? 'block' : 'none';\n",
              "\n",
              "        async function convertToInteractive(key) {\n",
              "          const element = document.querySelector('#df-24ac4585-f899-4ecf-abaf-573191d1fdef');\n",
              "          const dataTable =\n",
              "            await google.colab.kernel.invokeFunction('convertToInteractive',\n",
              "                                                     [key], {});\n",
              "          if (!dataTable) return;\n",
              "\n",
              "          const docLinkHtml = 'Like what you see? Visit the ' +\n",
              "            '<a target=\"_blank\" href=https://colab.research.google.com/notebooks/data_table.ipynb>data table notebook</a>'\n",
              "            + ' to learn more about interactive tables.';\n",
              "          element.innerHTML = '';\n",
              "          dataTable['output_type'] = 'display_data';\n",
              "          await google.colab.output.renderOutput(dataTable, element);\n",
              "          const docLink = document.createElement('div');\n",
              "          docLink.innerHTML = docLinkHtml;\n",
              "          element.appendChild(docLink);\n",
              "        }\n",
              "      </script>\n",
              "    </div>\n",
              "  </div>\n",
              "  "
            ]
          },
          "metadata": {},
          "execution_count": 3
        },
        {
          "output_type": "stream",
          "name": "stdout",
          "text": [
            "Warning: Total number of columns (22) exceeds max_columns (20) limiting to first (20) columns.\n"
          ]
        }
      ]
    },
    {
      "cell_type": "code",
      "source": [
        "# brief info of data \n",
        "\n",
        "data.info()"
      ],
      "metadata": {
        "colab": {
          "base_uri": "https://localhost:8080/"
        },
        "id": "Ix0CQf3vsqk3",
        "outputId": "2e77c487-4ca3-47df-f362-afe4a04f9bfd"
      },
      "execution_count": 4,
      "outputs": [
        {
          "output_type": "stream",
          "name": "stdout",
          "text": [
            "<class 'pandas.core.frame.DataFrame'>\n",
            "RangeIndex: 65282 entries, 0 to 65281\n",
            "Data columns (total 22 columns):\n",
            " #   Column                            Non-Null Count  Dtype         \n",
            "---  ------                            --------------  -----         \n",
            " 0   CustKey                           65282 non-null  int64         \n",
            " 1   DateKey                           65282 non-null  datetime64[ns]\n",
            " 2   Discount Amount                   65280 non-null  float64       \n",
            " 3   Invoice Date                      65282 non-null  datetime64[ns]\n",
            " 4   Invoice Number                    65282 non-null  int64         \n",
            " 5   Item Class                        56993 non-null  object        \n",
            " 6   Item Number                       65241 non-null  object        \n",
            " 7   Item                              65282 non-null  object        \n",
            " 8   Line Number                       65282 non-null  int64         \n",
            " 9   List Price                        65282 non-null  float64       \n",
            " 10  Order Number                      65282 non-null  int64         \n",
            " 11  Promised Delivery Date            65282 non-null  datetime64[ns]\n",
            " 12  Sales Amount                      65282 non-null  float64       \n",
            " 13  Sales Amount Based on List Price  65282 non-null  float64       \n",
            " 14  Sales Cost Amount                 65282 non-null  float64       \n",
            " 15  Sales Margin Amount               65282 non-null  float64       \n",
            " 16  Sales Price                       65281 non-null  float64       \n",
            " 17  Sales Quantity                    65282 non-null  int64         \n",
            " 18  Sales Rep                         65282 non-null  int64         \n",
            " 19  U/M                               65282 non-null  object        \n",
            " 20  Unnamed: 20                       0 non-null      float64       \n",
            " 21  Unnamed: 21                       4 non-null      object        \n",
            "dtypes: datetime64[ns](3), float64(8), int64(6), object(5)\n",
            "memory usage: 11.0+ MB\n"
          ]
        }
      ]
    },
    {
      "cell_type": "code",
      "source": [
        "# number of null values in each column\n",
        "\n",
        "data.isnull().sum()"
      ],
      "metadata": {
        "colab": {
          "base_uri": "https://localhost:8080/"
        },
        "id": "L-TxKiXCxpRu",
        "outputId": "b80214d0-cd97-4ce1-8271-d0c797ace74a"
      },
      "execution_count": 5,
      "outputs": [
        {
          "output_type": "execute_result",
          "data": {
            "text/plain": [
              "CustKey                                 0\n",
              "DateKey                                 0\n",
              "Discount Amount                         2\n",
              "Invoice Date                            0\n",
              "Invoice Number                          0\n",
              "Item Class                           8289\n",
              "Item Number                            41\n",
              "Item                                    0\n",
              "Line Number                             0\n",
              "List Price                              0\n",
              "Order Number                            0\n",
              "Promised Delivery Date                  0\n",
              "Sales Amount                            0\n",
              "Sales Amount Based on List Price        0\n",
              "Sales Cost Amount                       0\n",
              "Sales Margin Amount                     0\n",
              "Sales Price                             1\n",
              "Sales Quantity                          0\n",
              "Sales Rep                               0\n",
              "U/M                                     0\n",
              "Unnamed: 20                         65282\n",
              "Unnamed: 21                         65278\n",
              "dtype: int64"
            ]
          },
          "metadata": {},
          "execution_count": 5
        }
      ]
    },
    {
      "cell_type": "code",
      "source": [
        "print(data['Item Class'].value_counts())\n",
        "print(data['U/M'].value_counts())"
      ],
      "metadata": {
        "colab": {
          "base_uri": "https://localhost:8080/"
        },
        "id": "A4Y2W6U1yefJ",
        "outputId": "24f496ed-0fc8-4e5f-f668-09bf5c1895a0"
      },
      "execution_count": 8,
      "outputs": [
        {
          "output_type": "stream",
          "name": "stdout",
          "text": [
            "P01    56977\n",
            "PO1       16\n",
            "Name: Item Class, dtype: int64\n",
            "EA    58994\n",
            "SE     5629\n",
            "PR      659\n",
            "Name: U/M, dtype: int64\n"
          ]
        }
      ]
    },
    {
      "cell_type": "markdown",
      "source": [
        "These columns seems to be not important in analyzing sales data\n",
        "\n",
        "Remove these columns\n",
        "\n",
        "1. CustKey - Customer Key\n",
        "2. Invoice Date - DateKey is already in data\n",
        "3. Invoice Number -Not useful\n",
        "4. Item Class - It has only three category [PO1 , P01 and NaN]\n",
        "5. Line Number : It seems like line number is not useful here.\n",
        "6. Promised Delivery Date - DateKey is already in data\n",
        "7. U/M - Not useful                           \n",
        "8. Unnamed: 20 - filled with most of NAN values               \n",
        "9. Unnamed: 21 - filled with most of NAN values"
      ],
      "metadata": {
        "id": "YPHFRajktpnB"
      }
    },
    {
      "cell_type": "code",
      "source": [
        "# drop unnecessary columns\n",
        "\n",
        "data = data.drop(['CustKey', 'Invoice Date', 'Invoice Number', 'Item Class', 'Item Number','Line Number','Order Number', 'Promised Delivery Date', 'U/M','Unnamed: 20', 'Unnamed: 21'], axis = 1 )"
      ],
      "metadata": {
        "id": "ZHdiUrIwtNCe"
      },
      "execution_count": 9,
      "outputs": []
    },
    {
      "cell_type": "code",
      "source": [
        "data.info()"
      ],
      "metadata": {
        "colab": {
          "base_uri": "https://localhost:8080/"
        },
        "id": "BR5JWWLVt2uh",
        "outputId": "e840114c-1cb8-4d3a-9b77-008088aa7af5"
      },
      "execution_count": 10,
      "outputs": [
        {
          "output_type": "stream",
          "name": "stdout",
          "text": [
            "<class 'pandas.core.frame.DataFrame'>\n",
            "RangeIndex: 65282 entries, 0 to 65281\n",
            "Data columns (total 11 columns):\n",
            " #   Column                            Non-Null Count  Dtype         \n",
            "---  ------                            --------------  -----         \n",
            " 0   DateKey                           65282 non-null  datetime64[ns]\n",
            " 1   Discount Amount                   65280 non-null  float64       \n",
            " 2   Item                              65282 non-null  object        \n",
            " 3   List Price                        65282 non-null  float64       \n",
            " 4   Sales Amount                      65282 non-null  float64       \n",
            " 5   Sales Amount Based on List Price  65282 non-null  float64       \n",
            " 6   Sales Cost Amount                 65282 non-null  float64       \n",
            " 7   Sales Margin Amount               65282 non-null  float64       \n",
            " 8   Sales Price                       65281 non-null  float64       \n",
            " 9   Sales Quantity                    65282 non-null  int64         \n",
            " 10  Sales Rep                         65282 non-null  int64         \n",
            "dtypes: datetime64[ns](1), float64(7), int64(2), object(1)\n",
            "memory usage: 5.5+ MB\n"
          ]
        }
      ]
    },
    {
      "cell_type": "code",
      "source": [
        "# null values\n",
        "\n",
        "data.isnull().sum()"
      ],
      "metadata": {
        "colab": {
          "base_uri": "https://localhost:8080/"
        },
        "id": "IOJLwFJrzhGE",
        "outputId": "859b02c0-2796-4f41-f276-0bc52a7292d2"
      },
      "execution_count": 11,
      "outputs": [
        {
          "output_type": "execute_result",
          "data": {
            "text/plain": [
              "DateKey                             0\n",
              "Discount Amount                     2\n",
              "Item                                0\n",
              "List Price                          0\n",
              "Sales Amount                        0\n",
              "Sales Amount Based on List Price    0\n",
              "Sales Cost Amount                   0\n",
              "Sales Margin Amount                 0\n",
              "Sales Price                         1\n",
              "Sales Quantity                      0\n",
              "Sales Rep                           0\n",
              "dtype: int64"
            ]
          },
          "metadata": {},
          "execution_count": 11
        }
      ]
    },
    {
      "cell_type": "code",
      "source": [
        "# still 2 Nan in Discount Amount and 1 in Sales Amount\n",
        "#there is 1 null value in Sales Price column and 2 in Discount Amount in a sale so\n",
        "\n",
        "data[data['Discount Amount'].isnull() | data['Sales Price'].isnull()]"
      ],
      "metadata": {
        "colab": {
          "base_uri": "https://localhost:8080/",
          "height": 208
        },
        "id": "hvyfapHmujDr",
        "outputId": "8fa7a20e-a165-469c-a459-b12b1e798efb"
      },
      "execution_count": 14,
      "outputs": [
        {
          "output_type": "execute_result",
          "data": {
            "text/plain": [
              "         DateKey  Discount Amount                    Item  List Price  \\\n",
              "86    2017-06-13              NaN  Ebony Fresh Lima Beans         0.0   \n",
              "34889 2017-08-18              NaN       Monarch Manicotti         0.0   \n",
              "\n",
              "       Sales Amount  Sales Amount Based on List Price  Sales Cost Amount  \\\n",
              "86          5000.00                               0.0                0.0   \n",
              "34889        401.86                               0.0                0.0   \n",
              "\n",
              "       Sales Margin Amount  Sales Price  Sales Quantity  Sales Rep  \n",
              "86                 5000.00      -5000.0              -1        119  \n",
              "34889               401.86          NaN               0        104  "
            ],
            "text/html": [
              "\n",
              "  <div id=\"df-e47a7500-09a3-4606-baf1-3d59e69fd9ee\">\n",
              "    <div class=\"colab-df-container\">\n",
              "      <div>\n",
              "<style scoped>\n",
              "    .dataframe tbody tr th:only-of-type {\n",
              "        vertical-align: middle;\n",
              "    }\n",
              "\n",
              "    .dataframe tbody tr th {\n",
              "        vertical-align: top;\n",
              "    }\n",
              "\n",
              "    .dataframe thead th {\n",
              "        text-align: right;\n",
              "    }\n",
              "</style>\n",
              "<table border=\"1\" class=\"dataframe\">\n",
              "  <thead>\n",
              "    <tr style=\"text-align: right;\">\n",
              "      <th></th>\n",
              "      <th>DateKey</th>\n",
              "      <th>Discount Amount</th>\n",
              "      <th>Item</th>\n",
              "      <th>List Price</th>\n",
              "      <th>Sales Amount</th>\n",
              "      <th>Sales Amount Based on List Price</th>\n",
              "      <th>Sales Cost Amount</th>\n",
              "      <th>Sales Margin Amount</th>\n",
              "      <th>Sales Price</th>\n",
              "      <th>Sales Quantity</th>\n",
              "      <th>Sales Rep</th>\n",
              "    </tr>\n",
              "  </thead>\n",
              "  <tbody>\n",
              "    <tr>\n",
              "      <th>86</th>\n",
              "      <td>2017-06-13</td>\n",
              "      <td>NaN</td>\n",
              "      <td>Ebony Fresh Lima Beans</td>\n",
              "      <td>0.0</td>\n",
              "      <td>5000.00</td>\n",
              "      <td>0.0</td>\n",
              "      <td>0.0</td>\n",
              "      <td>5000.00</td>\n",
              "      <td>-5000.0</td>\n",
              "      <td>-1</td>\n",
              "      <td>119</td>\n",
              "    </tr>\n",
              "    <tr>\n",
              "      <th>34889</th>\n",
              "      <td>2017-08-18</td>\n",
              "      <td>NaN</td>\n",
              "      <td>Monarch Manicotti</td>\n",
              "      <td>0.0</td>\n",
              "      <td>401.86</td>\n",
              "      <td>0.0</td>\n",
              "      <td>0.0</td>\n",
              "      <td>401.86</td>\n",
              "      <td>NaN</td>\n",
              "      <td>0</td>\n",
              "      <td>104</td>\n",
              "    </tr>\n",
              "  </tbody>\n",
              "</table>\n",
              "</div>\n",
              "      <button class=\"colab-df-convert\" onclick=\"convertToInteractive('df-e47a7500-09a3-4606-baf1-3d59e69fd9ee')\"\n",
              "              title=\"Convert this dataframe to an interactive table.\"\n",
              "              style=\"display:none;\">\n",
              "        \n",
              "  <svg xmlns=\"http://www.w3.org/2000/svg\" height=\"24px\"viewBox=\"0 0 24 24\"\n",
              "       width=\"24px\">\n",
              "    <path d=\"M0 0h24v24H0V0z\" fill=\"none\"/>\n",
              "    <path d=\"M18.56 5.44l.94 2.06.94-2.06 2.06-.94-2.06-.94-.94-2.06-.94 2.06-2.06.94zm-11 1L8.5 8.5l.94-2.06 2.06-.94-2.06-.94L8.5 2.5l-.94 2.06-2.06.94zm10 10l.94 2.06.94-2.06 2.06-.94-2.06-.94-.94-2.06-.94 2.06-2.06.94z\"/><path d=\"M17.41 7.96l-1.37-1.37c-.4-.4-.92-.59-1.43-.59-.52 0-1.04.2-1.43.59L10.3 9.45l-7.72 7.72c-.78.78-.78 2.05 0 2.83L4 21.41c.39.39.9.59 1.41.59.51 0 1.02-.2 1.41-.59l7.78-7.78 2.81-2.81c.8-.78.8-2.07 0-2.86zM5.41 20L4 18.59l7.72-7.72 1.47 1.35L5.41 20z\"/>\n",
              "  </svg>\n",
              "      </button>\n",
              "      \n",
              "  <style>\n",
              "    .colab-df-container {\n",
              "      display:flex;\n",
              "      flex-wrap:wrap;\n",
              "      gap: 12px;\n",
              "    }\n",
              "\n",
              "    .colab-df-convert {\n",
              "      background-color: #E8F0FE;\n",
              "      border: none;\n",
              "      border-radius: 50%;\n",
              "      cursor: pointer;\n",
              "      display: none;\n",
              "      fill: #1967D2;\n",
              "      height: 32px;\n",
              "      padding: 0 0 0 0;\n",
              "      width: 32px;\n",
              "    }\n",
              "\n",
              "    .colab-df-convert:hover {\n",
              "      background-color: #E2EBFA;\n",
              "      box-shadow: 0px 1px 2px rgba(60, 64, 67, 0.3), 0px 1px 3px 1px rgba(60, 64, 67, 0.15);\n",
              "      fill: #174EA6;\n",
              "    }\n",
              "\n",
              "    [theme=dark] .colab-df-convert {\n",
              "      background-color: #3B4455;\n",
              "      fill: #D2E3FC;\n",
              "    }\n",
              "\n",
              "    [theme=dark] .colab-df-convert:hover {\n",
              "      background-color: #434B5C;\n",
              "      box-shadow: 0px 1px 3px 1px rgba(0, 0, 0, 0.15);\n",
              "      filter: drop-shadow(0px 1px 2px rgba(0, 0, 0, 0.3));\n",
              "      fill: #FFFFFF;\n",
              "    }\n",
              "  </style>\n",
              "\n",
              "      <script>\n",
              "        const buttonEl =\n",
              "          document.querySelector('#df-e47a7500-09a3-4606-baf1-3d59e69fd9ee button.colab-df-convert');\n",
              "        buttonEl.style.display =\n",
              "          google.colab.kernel.accessAllowed ? 'block' : 'none';\n",
              "\n",
              "        async function convertToInteractive(key) {\n",
              "          const element = document.querySelector('#df-e47a7500-09a3-4606-baf1-3d59e69fd9ee');\n",
              "          const dataTable =\n",
              "            await google.colab.kernel.invokeFunction('convertToInteractive',\n",
              "                                                     [key], {});\n",
              "          if (!dataTable) return;\n",
              "\n",
              "          const docLinkHtml = 'Like what you see? Visit the ' +\n",
              "            '<a target=\"_blank\" href=https://colab.research.google.com/notebooks/data_table.ipynb>data table notebook</a>'\n",
              "            + ' to learn more about interactive tables.';\n",
              "          element.innerHTML = '';\n",
              "          dataTable['output_type'] = 'display_data';\n",
              "          await google.colab.output.renderOutput(dataTable, element);\n",
              "          const docLink = document.createElement('div');\n",
              "          docLink.innerHTML = docLinkHtml;\n",
              "          element.appendChild(docLink);\n",
              "        }\n",
              "      </script>\n",
              "    </div>\n",
              "  </div>\n",
              "  "
            ]
          },
          "metadata": {},
          "execution_count": 14
        }
      ]
    },
    {
      "cell_type": "code",
      "source": [
        "# one row has 0 and one row has -1 quantity\n",
        "# so both row are not useful in data\n",
        "\n",
        "data = data[data['Discount Amount'].notnull()]\n",
        "data = data[data['Sales Price'].notnull()]"
      ],
      "metadata": {
        "id": "760C_h4KvHws"
      },
      "execution_count": 19,
      "outputs": []
    },
    {
      "cell_type": "code",
      "source": [
        "data.isnull().sum()\n",
        "\n",
        "# no null values "
      ],
      "metadata": {
        "colab": {
          "base_uri": "https://localhost:8080/"
        },
        "id": "pPU99vv7xPwW",
        "outputId": "9e5152a1-89f6-4226-c25b-0e35d5851ab5"
      },
      "execution_count": 20,
      "outputs": [
        {
          "output_type": "execute_result",
          "data": {
            "text/plain": [
              "DateKey                             0\n",
              "Discount Amount                     0\n",
              "Item                                0\n",
              "List Price                          0\n",
              "Sales Amount                        0\n",
              "Sales Amount Based on List Price    0\n",
              "Sales Cost Amount                   0\n",
              "Sales Margin Amount                 0\n",
              "Sales Price                         0\n",
              "Sales Quantity                      0\n",
              "Sales Rep                           0\n",
              "dtype: int64"
            ]
          },
          "metadata": {},
          "execution_count": 20
        }
      ]
    },
    {
      "cell_type": "code",
      "source": [
        "# Use LabelEncoder for Label Encoding \"Item\" column\n",
        "\n",
        "from sklearn.preprocessing import LabelEncoder\n",
        "\n",
        "labelEncoder = LabelEncoder()\n",
        "data['Item Number'] = labelEncoder.fit_transform(data['Item'])"
      ],
      "metadata": {
        "id": "2p5wGwZvdB9q"
      },
      "execution_count": 21,
      "outputs": []
    },
    {
      "cell_type": "code",
      "source": [
        "data = data.reset_index()\n",
        "data = data.drop('index', axis=1)"
      ],
      "metadata": {
        "id": "8gY0f2gl6bDS"
      },
      "execution_count": 23,
      "outputs": []
    },
    {
      "cell_type": "code",
      "source": [
        "# Dimenssion of data\n",
        "\n",
        "data.shape"
      ],
      "metadata": {
        "colab": {
          "base_uri": "https://localhost:8080/"
        },
        "id": "RysVQ5cvyY0-",
        "outputId": "40adbd38-16cb-4dc3-9d36-0aefd4ba7ef4"
      },
      "execution_count": 26,
      "outputs": [
        {
          "output_type": "execute_result",
          "data": {
            "text/plain": [
              "(65280, 12)"
            ]
          },
          "metadata": {},
          "execution_count": 26
        }
      ]
    },
    {
      "cell_type": "markdown",
      "source": [
        "Vizualizing data"
      ],
      "metadata": {
        "id": "Ywp9cKA02vCJ"
      }
    },
    {
      "cell_type": "code",
      "source": [
        "plt.figure(figsize=(22,8))\n",
        "\n",
        "plt.subplot(2, 3 ,1)\n",
        "sns.boxplot(data['List Price']) \n",
        "\n",
        "plt.subplot(2, 3 ,2)\n",
        "sns.boxplot(data['Sales Amount']) \n",
        "\n",
        "plt.subplot(2, 3 ,3)\n",
        "sns.boxplot(data['Sales Amount Based on List Price']) \n",
        "\n",
        "plt.subplot(2, 3 ,4)\n",
        "sns.boxplot(data['Sales Cost Amount']) \n",
        "\n",
        "plt.subplot(2, 3 ,5)\n",
        "sns.boxplot(data['Sales Margin Amount']) \n",
        "\n",
        "plt.subplot(2, 3 ,6)\n",
        "sns.boxplot(data['Sales Price']) \n",
        "\n",
        "plt.show()"
      ],
      "metadata": {
        "colab": {
          "base_uri": "https://localhost:8080/",
          "height": 572
        },
        "id": "PFBsvZVeP6zM",
        "outputId": "cb28eb59-b9e9-4bbd-f0f7-d5845dde12f1"
      },
      "execution_count": null,
      "outputs": [
        {
          "output_type": "stream",
          "name": "stderr",
          "text": [
            "/usr/local/lib/python3.7/dist-packages/seaborn/_decorators.py:43: FutureWarning: Pass the following variable as a keyword arg: x. From version 0.12, the only valid positional argument will be `data`, and passing other arguments without an explicit keyword will result in an error or misinterpretation.\n",
            "  FutureWarning\n",
            "/usr/local/lib/python3.7/dist-packages/seaborn/_decorators.py:43: FutureWarning: Pass the following variable as a keyword arg: x. From version 0.12, the only valid positional argument will be `data`, and passing other arguments without an explicit keyword will result in an error or misinterpretation.\n",
            "  FutureWarning\n",
            "/usr/local/lib/python3.7/dist-packages/seaborn/_decorators.py:43: FutureWarning: Pass the following variable as a keyword arg: x. From version 0.12, the only valid positional argument will be `data`, and passing other arguments without an explicit keyword will result in an error or misinterpretation.\n",
            "  FutureWarning\n",
            "/usr/local/lib/python3.7/dist-packages/seaborn/_decorators.py:43: FutureWarning: Pass the following variable as a keyword arg: x. From version 0.12, the only valid positional argument will be `data`, and passing other arguments without an explicit keyword will result in an error or misinterpretation.\n",
            "  FutureWarning\n",
            "/usr/local/lib/python3.7/dist-packages/seaborn/_decorators.py:43: FutureWarning: Pass the following variable as a keyword arg: x. From version 0.12, the only valid positional argument will be `data`, and passing other arguments without an explicit keyword will result in an error or misinterpretation.\n",
            "  FutureWarning\n",
            "/usr/local/lib/python3.7/dist-packages/seaborn/_decorators.py:43: FutureWarning: Pass the following variable as a keyword arg: x. From version 0.12, the only valid positional argument will be `data`, and passing other arguments without an explicit keyword will result in an error or misinterpretation.\n",
            "  FutureWarning\n"
          ]
        },
        {
          "output_type": "display_data",
          "data": {
            "text/plain": [
              "<Figure size 1584x576 with 6 Axes>"
            ],
            "image/png": "[encoded data removed]"
          },
          "metadata": {
            "needs_background": "light"
          }
        }
      ]
    },
    {
      "cell_type": "code",
      "source": [
        "per_25 = np.percentile(data['Sales Amount'], 25) \n",
        "per_75 = np.percentile(data['Sales Amount'], 75)\n",
        "range_min = [0 , per_75 + (per_75 - per_25)*1.5]\n",
        "print(\"Actual range of Sales Amount : \",[0, data['Sales Amount'].max()])\n",
        "print(\"Most of Sales Amount Range : \",range_min)\n",
        "print(\"\\n\")\n",
        "\n",
        "per_25 = np.percentile(data['Sales Amount Based on List Price'], 25) \n",
        "per_75 = np.percentile(data['Sales Amount Based on List Price'], 75)\n",
        "range_min = [0 , per_75 + (per_75 - per_25)*1.5]\n",
        "print(\"Actual range of Sales Amount Based on List Price : \",[0, data['Sales Amount Based on List Price'].max()])\n",
        "print(\"Most of Sales Amount Based on List Price Range : \",range_min)\n",
        "print(\"\\n\")\n",
        "\n",
        "per_25 = np.percentile(data['Sales Cost Amount'], 25) \n",
        "per_75 = np.percentile(data['Sales Cost Amount'], 75)\n",
        "range_min = [0 , per_75 + (per_75 - per_25)*1.5]\n",
        "print(\"Actual range of Sales Cost Amount : \",[0, data['Sales Cost Amount'].max()])\n",
        "print(\"Most of Sales Cost Amount Range : \",range_min)\n",
        "print(\"\\n\")\n",
        "\n",
        "per_25 = np.percentile(data['Sales Margin Amount'], 25) \n",
        "per_75 = np.percentile(data['Sales Margin Amount'], 75)\n",
        "range_min = [0 , per_75 + (per_75 - per_25)*1.5]\n",
        "print(\"Actual range of Sales Margin Amount : \",[0, data['Sales Margin Amount'].max()])\n",
        "print(\"Most of Sales Margin Amount Range : \",range_min)\n",
        "print(\"\\n\")\n",
        "\n",
        "per_25 = np.percentile(data['Sales Price'], 25) \n",
        "per_75 = np.percentile(data['Sales Price'], 75)\n",
        "range_min = [0 , per_75 + (per_75 - per_25)*1.5]\n",
        "print(\"Actual range of Sales Price : \",[0, data['Sales Price'].max()])\n",
        "print(\"Most of Sales Price Range : \",range_min)\n",
        "print(\"\\n\")"
      ],
      "metadata": {
        "colab": {
          "base_uri": "https://localhost:8080/"
        },
        "id": "-DAU2HFv3eSh",
        "outputId": "d3fb5281-7cca-4d49-d712-5b10b07653bd"
      },
      "execution_count": 35,
      "outputs": [
        {
          "output_type": "stream",
          "name": "stdout",
          "text": [
            "Actual range of Sales Amount :  [0, 555376.0]\n",
            "Most of Sales Amount Range :  [0, 2737.39875]\n",
            "\n",
            "\n",
            "Actual range of Sales Amount Based on List Price :  [0, 632610.16]\n",
            "Most of Sales Amount Based on List Price Range :  [0, 4950.015]\n",
            "\n",
            "\n",
            "Actual range of Sales Cost Amount :  [0, 366576.0]\n",
            "Most of Sales Cost Amount Range :  [0, 1466.815]\n",
            "\n",
            "\n",
            "Actual range of Sales Margin Amount :  [0, 188800.0]\n",
            "Most of Sales Margin Amount Range :  [0, 1253.5537500000003]\n",
            "\n",
            "\n",
            "Actual range of Sales Price :  [0, 6035.0]\n",
            "Most of Sales Price Range :  [0, 970.445]\n",
            "\n",
            "\n"
          ]
        }
      ]
    },
    {
      "cell_type": "code",
      "source": [
        "data[data['Sales Amount'] > 330000].sample(4)"
      ],
      "metadata": {
        "colab": {
          "base_uri": "https://localhost:8080/",
          "height": 323
        },
        "id": "whLEcYEi7cYw",
        "outputId": "23c47dd6-0387-4261-bbb8-0fab15b3821a"
      },
      "execution_count": 42,
      "outputs": [
        {
          "output_type": "execute_result",
          "data": {
            "text/plain": [
              "         DateKey  Discount Amount                      Item  List Price  \\\n",
              "34620 2019-08-16          18332.8  High Top Dried Mushrooms        33.7   \n",
              "14007 2019-04-05          18332.8  High Top Dried Mushrooms        33.7   \n",
              "3003  2019-01-25          21568.0  High Top Dried Mushrooms        33.7   \n",
              "54012 2019-12-06          18332.8  High Top Dried Mushrooms        33.7   \n",
              "\n",
              "       Sales Amount  Sales Amount Based on List Price  Sales Cost Amount  \\\n",
              "34620      439987.2                          458320.0           311589.6   \n",
              "14007      439987.2                          458320.0           311589.6   \n",
              "3003       517632.0                          539200.0           366576.0   \n",
              "54012      439987.2                          458320.0           311589.6   \n",
              "\n",
              "       Sales Margin Amount  Sales Price  Sales Quantity  Sales Rep  \\\n",
              "34620             128397.6       32.352           13600        149   \n",
              "14007             128397.6       32.352           13600        149   \n",
              "3003              151056.0       32.352           16000        149   \n",
              "54012             128397.6       32.352           13600        149   \n",
              "\n",
              "       Item Number  \n",
              "34620          386  \n",
              "14007          386  \n",
              "3003           386  \n",
              "54012          386  "
            ],
            "text/html": [
              "\n",
              "  <div id=\"df-a3a4f1e6-d4b0-498d-b003-032907ba547f\">\n",
              "    <div class=\"colab-df-container\">\n",
              "      <div>\n",
              "<style scoped>\n",
              "    .dataframe tbody tr th:only-of-type {\n",
              "        vertical-align: middle;\n",
              "    }\n",
              "\n",
              "    .dataframe tbody tr th {\n",
              "        vertical-align: top;\n",
              "    }\n",
              "\n",
              "    .dataframe thead th {\n",
              "        text-align: right;\n",
              "    }\n",
              "</style>\n",
              "<table border=\"1\" class=\"dataframe\">\n",
              "  <thead>\n",
              "    <tr style=\"text-align: right;\">\n",
              "      <th></th>\n",
              "      <th>DateKey</th>\n",
              "      <th>Discount Amount</th>\n",
              "      <th>Item</th>\n",
              "      <th>List Price</th>\n",
              "      <th>Sales Amount</th>\n",
              "      <th>Sales Amount Based on List Price</th>\n",
              "      <th>Sales Cost Amount</th>\n",
              "      <th>Sales Margin Amount</th>\n",
              "      <th>Sales Price</th>\n",
              "      <th>Sales Quantity</th>\n",
              "      <th>Sales Rep</th>\n",
              "      <th>Item Number</th>\n",
              "    </tr>\n",
              "  </thead>\n",
              "  <tbody>\n",
              "    <tr>\n",
              "      <th>34620</th>\n",
              "      <td>2019-08-16</td>\n",
              "      <td>18332.8</td>\n",
              "      <td>High Top Dried Mushrooms</td>\n",
              "      <td>33.7</td>\n",
              "      <td>439987.2</td>\n",
              "      <td>458320.0</td>\n",
              "      <td>311589.6</td>\n",
              "      <td>128397.6</td>\n",
              "      <td>32.352</td>\n",
              "      <td>13600</td>\n",
              "      <td>149</td>\n",
              "      <td>386</td>\n",
              "    </tr>\n",
              "    <tr>\n",
              "      <th>14007</th>\n",
              "      <td>2019-04-05</td>\n",
              "      <td>18332.8</td>\n",
              "      <td>High Top Dried Mushrooms</td>\n",
              "      <td>33.7</td>\n",
              "      <td>439987.2</td>\n",
              "      <td>458320.0</td>\n",
              "      <td>311589.6</td>\n",
              "      <td>128397.6</td>\n",
              "      <td>32.352</td>\n",
              "      <td>13600</td>\n",
              "      <td>149</td>\n",
              "      <td>386</td>\n",
              "    </tr>\n",
              "    <tr>\n",
              "      <th>3003</th>\n",
              "      <td>2019-01-25</td>\n",
              "      <td>21568.0</td>\n",
              "      <td>High Top Dried Mushrooms</td>\n",
              "      <td>33.7</td>\n",
              "      <td>517632.0</td>\n",
              "      <td>539200.0</td>\n",
              "      <td>366576.0</td>\n",
              "      <td>151056.0</td>\n",
              "      <td>32.352</td>\n",
              "      <td>16000</td>\n",
              "      <td>149</td>\n",
              "      <td>386</td>\n",
              "    </tr>\n",
              "    <tr>\n",
              "      <th>54012</th>\n",
              "      <td>2019-12-06</td>\n",
              "      <td>18332.8</td>\n",
              "      <td>High Top Dried Mushrooms</td>\n",
              "      <td>33.7</td>\n",
              "      <td>439987.2</td>\n",
              "      <td>458320.0</td>\n",
              "      <td>311589.6</td>\n",
              "      <td>128397.6</td>\n",
              "      <td>32.352</td>\n",
              "      <td>13600</td>\n",
              "      <td>149</td>\n",
              "      <td>386</td>\n",
              "    </tr>\n",
              "  </tbody>\n",
              "</table>\n",
              "</div>\n",
              "      <button class=\"colab-df-convert\" onclick=\"convertToInteractive('df-a3a4f1e6-d4b0-498d-b003-032907ba547f')\"\n",
              "              title=\"Convert this dataframe to an interactive table.\"\n",
              "              style=\"display:none;\">\n",
              "        \n",
              "  <svg xmlns=\"http://www.w3.org/2000/svg\" height=\"24px\"viewBox=\"0 0 24 24\"\n",
              "       width=\"24px\">\n",
              "    <path d=\"M0 0h24v24H0V0z\" fill=\"none\"/>\n",
              "    <path d=\"M18.56 5.44l.94 2.06.94-2.06 2.06-.94-2.06-.94-.94-2.06-.94 2.06-2.06.94zm-11 1L8.5 8.5l.94-2.06 2.06-.94-2.06-.94L8.5 2.5l-.94 2.06-2.06.94zm10 10l.94 2.06.94-2.06 2.06-.94-2.06-.94-.94-2.06-.94 2.06-2.06.94z\"/><path d=\"M17.41 7.96l-1.37-1.37c-.4-.4-.92-.59-1.43-.59-.52 0-1.04.2-1.43.59L10.3 9.45l-7.72 7.72c-.78.78-.78 2.05 0 2.83L4 21.41c.39.39.9.59 1.41.59.51 0 1.02-.2 1.41-.59l7.78-7.78 2.81-2.81c.8-.78.8-2.07 0-2.86zM5.41 20L4 18.59l7.72-7.72 1.47 1.35L5.41 20z\"/>\n",
              "  </svg>\n",
              "      </button>\n",
              "      \n",
              "  <style>\n",
              "    .colab-df-container {\n",
              "      display:flex;\n",
              "      flex-wrap:wrap;\n",
              "      gap: 12px;\n",
              "    }\n",
              "\n",
              "    .colab-df-convert {\n",
              "      background-color: #E8F0FE;\n",
              "      border: none;\n",
              "      border-radius: 50%;\n",
              "      cursor: pointer;\n",
              "      display: none;\n",
              "      fill: #1967D2;\n",
              "      height: 32px;\n",
              "      padding: 0 0 0 0;\n",
              "      width: 32px;\n",
              "    }\n",
              "\n",
              "    .colab-df-convert:hover {\n",
              "      background-color: #E2EBFA;\n",
              "      box-shadow: 0px 1px 2px rgba(60, 64, 67, 0.3), 0px 1px 3px 1px rgba(60, 64, 67, 0.15);\n",
              "      fill: #174EA6;\n",
              "    }\n",
              "\n",
              "    [theme=dark] .colab-df-convert {\n",
              "      background-color: #3B4455;\n",
              "      fill: #D2E3FC;\n",
              "    }\n",
              "\n",
              "    [theme=dark] .colab-df-convert:hover {\n",
              "      background-color: #434B5C;\n",
              "      box-shadow: 0px 1px 3px 1px rgba(0, 0, 0, 0.15);\n",
              "      filter: drop-shadow(0px 1px 2px rgba(0, 0, 0, 0.3));\n",
              "      fill: #FFFFFF;\n",
              "    }\n",
              "  </style>\n",
              "\n",
              "      <script>\n",
              "        const buttonEl =\n",
              "          document.querySelector('#df-a3a4f1e6-d4b0-498d-b003-032907ba547f button.colab-df-convert');\n",
              "        buttonEl.style.display =\n",
              "          google.colab.kernel.accessAllowed ? 'block' : 'none';\n",
              "\n",
              "        async function convertToInteractive(key) {\n",
              "          const element = document.querySelector('#df-a3a4f1e6-d4b0-498d-b003-032907ba547f');\n",
              "          const dataTable =\n",
              "            await google.colab.kernel.invokeFunction('convertToInteractive',\n",
              "                                                     [key], {});\n",
              "          if (!dataTable) return;\n",
              "\n",
              "          const docLinkHtml = 'Like what you see? Visit the ' +\n",
              "            '<a target=\"_blank\" href=https://colab.research.google.com/notebooks/data_table.ipynb>data table notebook</a>'\n",
              "            + ' to learn more about interactive tables.';\n",
              "          element.innerHTML = '';\n",
              "          dataTable['output_type'] = 'display_data';\n",
              "          await google.colab.output.renderOutput(dataTable, element);\n",
              "          const docLink = document.createElement('div');\n",
              "          docLink.innerHTML = docLinkHtml;\n",
              "          element.appendChild(docLink);\n",
              "        }\n",
              "      </script>\n",
              "    </div>\n",
              "  </div>\n",
              "  "
            ]
          },
          "metadata": {},
          "execution_count": 42
        }
      ]
    },
    {
      "cell_type": "markdown",
      "source": [
        "Observation :-    \n",
        "\n",
        "Some of rows has Sales Amount higher than normal range because of large number of quantity "
      ],
      "metadata": {
        "id": "EiMGnIZA7xl-"
      }
    },
    {
      "cell_type": "code",
      "source": [
        "# save this dataframe and use it for further analysis in Power Bi \n",
        "\n",
        "data.to_csv('amazon_clean_data.csv')\n",
        "\n",
        "# download amazon_clean_data.csv file"
      ],
      "metadata": {
        "id": "X3dPOUBozbGd"
      },
      "execution_count": 43,
      "outputs": []
    },
    {
      "cell_type": "code",
      "source": [
        ""
      ],
      "metadata": {
        "id": "p6uxojxuqOFj"
      },
      "execution_count": null,
      "outputs": []
    }
  ]
}